{
  "nbformat": 4,
  "nbformat_minor": 0,
  "metadata": {
    "colab": {
      "name": "classify.ipynb",
      "provenance": [],
      "collapsed_sections": []
    },
    "kernelspec": {
      "name": "python3",
      "display_name": "Python 3"
    }
  },
  "cells": [
    {
      "cell_type": "markdown",
      "metadata": {
        "id": "ATDF2dhqoU4L"
      },
      "source": [
        "# **Classify a recipe GUI Screen**\n",
        "\n",
        "### Create GUI screen for classify a recipe based on input ingredients\n",
        "### Underlying classification model is SVM with 98.42% accuracy"
      ]
    },
    {
      "cell_type": "markdown",
      "metadata": {
        "id": "6oz9doXgBZWz"
      },
      "source": [
        "***Created by Rahul Maheshwari***"
      ]
    },
    {
      "cell_type": "code",
      "metadata": {
        "id": "kjzaMF07n76_"
      },
      "source": [
        "#! /usr/bin/env python\n",
        "#  -*- coding: utf-8 -*-\n",
        "\n",
        "import re\n",
        "import pandas as pd\n",
        "from joblib import load\n",
        "from nltk import WordNetLemmatizer, word_tokenize\n",
        "from sklearn.feature_extraction.text import TfidfVectorizer"
      ],
      "execution_count": null,
      "outputs": []
    },
    {
      "cell_type": "markdown",
      "metadata": {
        "id": "9qLVuKtEord6"
      },
      "source": [
        "**Method for creating and initializing GUI**"
      ]
    },
    {
      "cell_type": "code",
      "metadata": {
        "id": "YfGvtnZkoKAy"
      },
      "source": [
        "try:\n",
        "    import Tkinter as tk\n",
        "except ImportError:\n",
        "    import tkinter as tk\n",
        "\n",
        "try:\n",
        "    import ttk\n",
        "\n",
        "    py3 = False\n",
        "except ImportError:\n",
        "    import tkinter.ttk as ttk\n",
        "\n",
        "    py3 = True\n",
        "\n",
        "import classify_support\n",
        "\n",
        "\n",
        "def vp_start_gui():\n",
        "    \"\"\"Starting point when module is the main routine.\"\"\"\n",
        "    global val, w, root\n",
        "    root = tk.Tk()\n",
        "    top = Toplevel1(root)\n",
        "    classify_support.init(root, top)\n",
        "    root.mainloop()\n",
        "\n",
        "\n",
        "w = None\n",
        "\n",
        "\n",
        "def create_Toplevel1(rt, *args, **kwargs):\n",
        "    \"\"\"Starting point when module is imported by another module.\n",
        "       Correct form of call: 'create_Toplevel1(root, *args, **kwargs)' .\"\"\"\n",
        "    global w, w_win, root\n",
        "    # rt = root\n",
        "    root = rt\n",
        "    w = tk.Toplevel(root)\n",
        "    top = Toplevel1(w)\n",
        "    classify_support.init(w, top, *args, **kwargs)\n",
        "    return w, top\n",
        "\n",
        "\n",
        "def destroy_Toplevel1():\n",
        "    global w\n",
        "    w.destroy()\n",
        "    w = None"
      ],
      "execution_count": null,
      "outputs": []
    },
    {
      "cell_type": "markdown",
      "metadata": {
        "id": "XC59GP_ho_x7"
      },
      "source": [
        "## **Class containing methods to perform classification with the input ingredients.**\n",
        "\n",
        "## **Input ingredients are pre-processed using lemmatizer and vectorized and then fed to the model for classification.**"
      ]
    },
    {
      "cell_type": "code",
      "metadata": {
        "id": "5yvAM66boRli"
      },
      "source": [
        "class Toplevel1:\n",
        "    # grab input ingredients and perform classification using SVM model\n",
        "    def classify_recipe(self):\n",
        "        lm = WordNetLemmatizer()\n",
        "        df = pd.read_csv(\"recipes.csv\")\n",
        "        df = df.drop(\n",
        "            ['Recipe ID', 'Title', 'URL', 'Rating', 'Serves', 'Ingredients', 'Cooking instructions', 'Rating Score'],\n",
        "            axis=1)\n",
        "        new = []\n",
        "        for ing in df['Lookup Ingredients']:\n",
        "            ingredient = ing[1:-1]\n",
        "            ingredients = re.sub(r'[^\\w\\s]', '', ingredient).split(' ')\n",
        "            ingredient = ' '.join(ingredients)\n",
        "            new.append(ingredient)\n",
        "        df['new_ingredients'] = new\n",
        "        l = []\n",
        "        for s in df['new_ingredients']:\n",
        "            words = word_tokenize(s)\n",
        "            word_ps = []\n",
        "            for w in words:\n",
        "                word_ps.append(lm.lemmatize(w))\n",
        "            s = ' '.join(word_ps)\n",
        "            l.append(s)\n",
        "        df['modified_ingredients'] = l\n",
        "        vectorizer = TfidfVectorizer()\n",
        "        X = vectorizer.fit_transform(df['modified_ingredients'])\n",
        "        ingredients = str(self.Entry1.get()).split(',')\n",
        "        ingredients = [i.strip() for i in ingredients]\n",
        "        ingredients = [lm.lemmatize(i) for i in ingredients]\n",
        "        ingredients_string = ' '.join(ingredients)\n",
        "        ingredient_list = [ingredients_string]\n",
        "        test_ingredients = vectorizer.transform(ingredient_list)\n",
        "        meal_map = {0: 'Breakfast', 1: 'Lunch', 2: 'Dinner'}\n",
        "        svm = load('svm_model.joblib')\n",
        "        y_pred = svm.predict(test_ingredients)\n",
        "        self.classified_as.configure(text='Classified as: ')\n",
        "        self.Label1_3.configure(text=str(meal_map[y_pred[0]]))\n",
        "\n",
        "    def __init__(self, top=None):\n",
        "        \"\"\"This class configures and populates the toplevel window.\n",
        "           top is the toplevel containing window.\"\"\"\n",
        "        _bgcolor = '#d9d9d9'  # X11 color: 'gray85'\n",
        "        _fgcolor = '#000000'  # X11 color: 'black'\n",
        "        _compcolor = '#d9d9d9'  # X11 color: 'gray85'\n",
        "        _ana1color = '#d9d9d9'  # X11 color: 'gray85'\n",
        "        _ana2color = '#ececec'  # Closest X11 color: 'gray92'\n",
        "        font9 = \"-family {Century Gothic} -size 20 -weight bold\"\n",
        "        font10 = \"-family {Segoe UI} -size 14\"\n",
        "        font11 = \"-family {Segoe UI} -size 18\"\n",
        "        font12 = \"-family {Segoe UI} -size 24 -weight bold\"\n",
        "        font13 = \"-family {Courier New} -size 17\"\n",
        "        font14 = \"-family {Segoe UI} -size 20 -weight bold\"\n",
        "\n",
        "        top.geometry(\"1920x1001+650+150\")\n",
        "        top.attributes(\"-fullscreen\", True)\n",
        "        top.minsize(148, 1)\n",
        "        top.maxsize(1924, 1055)\n",
        "        top.resizable(1, 1)\n",
        "        top.title(\"Classify Recipe\")\n",
        "        top.configure(background=\"#917ed8\")\n",
        "\n",
        "        self.Label1 = tk.Label(top)\n",
        "        self.Label1.place(relx=0.34, rely=0.11, height=59, width=507)\n",
        "        self.Label1.configure(background=\"#917ed8\")\n",
        "        self.Label1.configure(cursor=\"fleur\")\n",
        "        self.Label1.configure(disabledforeground=\"#a3a3a3\")\n",
        "        self.Label1.configure(font=font12)\n",
        "        self.Label1.configure(foreground=\"#ffffff\")\n",
        "        self.Label1.configure(text='''Classify a new recipe''')\n",
        "\n",
        "        self.Label1_1 = tk.Label(top)\n",
        "        self.Label1_1.place(relx=0.276, rely=0.33, height=69, width=248)\n",
        "        self.Label1_1.configure(activebackground=\"#f9f9f9\")\n",
        "        self.Label1_1.configure(activeforeground=\"black\")\n",
        "        self.Label1_1.configure(background=\"#917ed8\")\n",
        "        self.Label1_1.configure(disabledforeground=\"#a3a3a3\")\n",
        "        self.Label1_1.configure(font=font11)\n",
        "        self.Label1_1.configure(foreground=\"#ffffff\")\n",
        "        self.Label1_1.configure(highlightbackground=\"#d9d9d9\")\n",
        "        self.Label1_1.configure(highlightcolor=\"black\")\n",
        "        self.Label1_1.configure(text='''Enter ingredients''')\n",
        "\n",
        "        self.Label1_2 = tk.Label(top)\n",
        "        self.Label1_2.place(relx=0.323, rely=0.39, height=29, width=248)\n",
        "        self.Label1_2.configure(activebackground=\"#f9f9f9\")\n",
        "        self.Label1_2.configure(activeforeground=\"black\")\n",
        "        self.Label1_2.configure(background=\"#917ed8\")\n",
        "        self.Label1_2.configure(disabledforeground=\"#a3a3a3\")\n",
        "        self.Label1_2.configure(font=font10)\n",
        "        self.Label1_2.configure(foreground=\"#ffffff\")\n",
        "        self.Label1_2.configure(highlightbackground=\"#d9d9d9\")\n",
        "        self.Label1_2.configure(highlightcolor=\"black\")\n",
        "        self.Label1_2.configure(text='''(separated by comma)''')\n",
        "\n",
        "        self.Entry1 = tk.Entry(top)\n",
        "        self.Entry1.place(relx=0.34, rely=0.46, height=35, relwidth=0.325)\n",
        "        self.Entry1.configure(background=\"white\")\n",
        "        self.Entry1.configure(disabledforeground=\"#a3a3a3\")\n",
        "        self.Entry1.configure(font=font13)\n",
        "        self.Entry1.configure(foreground=\"#000000\")\n",
        "        self.Entry1.configure(insertbackground=\"black\")\n",
        "\n",
        "        self.Button1 = tk.Button(top)\n",
        "        self.Button1.place(relx=0.474, rely=0.559, height=53, width=98)\n",
        "        self.Button1.configure(activebackground=\"#ececec\")\n",
        "        self.Button1.configure(activeforeground=\"#000000\")\n",
        "        self.Button1.configure(background=\"#4e4ef1\")\n",
        "        self.Button1.configure(disabledforeground=\"#a3a3a3\")\n",
        "        self.Button1.configure(font=font10)\n",
        "        self.Button1.configure(foreground=\"#ffffff\")\n",
        "        self.Button1.configure(highlightbackground=\"#d9d9d9\")\n",
        "        self.Button1.configure(highlightcolor=\"black\")\n",
        "        self.Button1.configure(pady=\"0\")\n",
        "        self.Button1.configure(text='''Classify''')\n",
        "        self.Button1.configure(command=self.classify_recipe)\n",
        "\n",
        "        self.classified_as = tk.Label(top)\n",
        "        self.classified_as.place(relx=0.365, rely=0.779, height=69, width=247)\n",
        "        self.classified_as.configure(activebackground=\"#f9f9f9\")\n",
        "        self.classified_as.configure(activeforeground=\"black\")\n",
        "        self.classified_as.configure(background=\"#917ed8\")\n",
        "        self.classified_as.configure(disabledforeground=\"#a3a3a3\")\n",
        "        self.classified_as.configure(font=\"-family {Segoe UI} -size 18\")\n",
        "        self.classified_as.configure(foreground=\"#ffffff\")\n",
        "        self.classified_as.configure(highlightbackground=\"#d9d9d9\")\n",
        "        self.classified_as.configure(highlightcolor=\"black\")\n",
        "\n",
        "        self.Label1_3 = tk.Label(top)\n",
        "        self.Label1_3.place(relx=0.484, rely=0.779, height=69, width=248)\n",
        "        self.Label1_3.configure(activebackground=\"#f9f9f9\")\n",
        "        self.Label1_3.configure(activeforeground=\"black\")\n",
        "        self.Label1_3.configure(background=\"#917ed8\")\n",
        "        self.Label1_3.configure(disabledforeground=\"#a3a3a3\")\n",
        "        self.Label1_3.configure(font=font14)\n",
        "        self.Label1_3.configure(foreground=\"#ffffff\")\n",
        "        self.Label1_3.configure(highlightbackground=\"#d9d9d9\")\n",
        "        self.Label1_3.configure(highlightcolor=\"black\")\n",
        "\n",
        "        self.Button2 = tk.Button(top)\n",
        "        self.Button2.place(relx=0.932, rely=0.04, height=53, width=64)\n",
        "        self.Button2.configure(activebackground=\"#ececec\")\n",
        "        self.Button2.configure(activeforeground=\"#000000\")\n",
        "        self.Button2.configure(background=\"#990000\")\n",
        "        self.Button2.configure(disabledforeground=\"#a3a3a3\")\n",
        "        self.Button2.configure(font=\"-family {Segoe UI} -size 18 -weight bold\")\n",
        "        self.Button2.configure(foreground=\"#ffffff\")\n",
        "        self.Button2.configure(highlightbackground=\"#d9d9d9\")\n",
        "        self.Button2.configure(highlightcolor=\"black\")\n",
        "        self.Button2.configure(pady=\"0\")\n",
        "        self.Button2.configure(text='''X''')\n",
        "        self.Button2.configure(command=root.destroy)\n",
        "\n",
        "        self.Label1_4 = tk.Label(top)\n",
        "        self.Label1_4.place(relx=0.495, rely=0.17, height=59, width=427)\n",
        "        self.Label1_4.configure(activebackground=\"#f9f9f9\")\n",
        "        self.Label1_4.configure(activeforeground=\"black\")\n",
        "        self.Label1_4.configure(background=\"#917ed8\")\n",
        "        self.Label1_4.configure(disabledforeground=\"#a3a3a3\")\n",
        "        self.Label1_4.configure(font=font9)\n",
        "        self.Label1_4.configure(foreground=\"#ffffff\")\n",
        "        self.Label1_4.configure(highlightbackground=\"#d9d9d9\")\n",
        "        self.Label1_4.configure(highlightcolor=\"black\")\n",
        "        self.Label1_4.configure(text='''(With 98.42 % accuracy)''')\n"
      ],
      "execution_count": null,
      "outputs": []
    },
    {
      "cell_type": "markdown",
      "metadata": {
        "id": "Zxg0yyvVpnz4"
      },
      "source": [
        "**Main method to start GUI**"
      ]
    },
    {
      "cell_type": "code",
      "metadata": {
        "id": "xaeh5iCToSMq"
      },
      "source": [
        "if __name__ == '__main__':\n",
        "    vp_start_gui()"
      ],
      "execution_count": null,
      "outputs": []
    }
  ]
}