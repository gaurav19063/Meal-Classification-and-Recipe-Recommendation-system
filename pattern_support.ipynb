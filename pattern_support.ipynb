{
  "nbformat": 4,
  "nbformat_minor": 0,
  "metadata": {
    "colab": {
      "name": "pattern_support.ipynb",
      "provenance": [],
      "collapsed_sections": []
    },
    "kernelspec": {
      "name": "python3",
      "display_name": "Python 3"
    }
  },
  "cells": [
    {
      "cell_type": "markdown",
      "metadata": {
        "id": "1cJLpHlu0MyI"
      },
      "source": [
        "# **Support file for Frequently co occurring ingredients GUI Screen**\n",
        "\n",
        "### Required for creating co-occurring ingredient GUI screen"
      ]
    },
    {
      "cell_type": "markdown",
      "metadata": {
        "id": "6oz9doXgBZWz"
      },
      "source": [
        "***Created by Rahul Maheshwari***"
      ]
    },
    {
      "cell_type": "code",
      "metadata": {
        "id": "4fZ2JJNU0Giy"
      },
      "source": [
        "#! /usr/bin/env python\n",
        "#  -*- coding: utf-8 -*-\n",
        "\n",
        "import sys\n",
        "\n",
        "try:\n",
        "    import Tkinter as tk\n",
        "except ImportError:\n",
        "    import tkinter as tk\n",
        "\n",
        "try:\n",
        "    import ttk\n",
        "\n",
        "    py3 = False\n",
        "except ImportError:\n",
        "    import tkinter.ttk as ttk\n",
        "\n",
        "    py3 = True\n",
        "\n",
        "\n",
        "def set_Tk_var():\n",
        "    global combobox\n",
        "    combobox = tk.StringVar()\n",
        "\n",
        "\n",
        "def init(top, gui, *args, **kwargs):\n",
        "    global w, top_level, root\n",
        "    w = gui\n",
        "    top_level = top\n",
        "    root = top\n",
        "\n",
        "\n",
        "def destroy_window():\n",
        "    # Function which closes the window.\n",
        "    global top_level\n",
        "    top_level.destroy()\n",
        "    top_level = None"
      ],
      "execution_count": null,
      "outputs": []
    },
    {
      "cell_type": "markdown",
      "metadata": {
        "id": "iWg4qzIy0JE2"
      },
      "source": [
        "**Main method to create GUI**"
      ]
    },
    {
      "cell_type": "code",
      "metadata": {
        "id": "wND-qlOU0Hho"
      },
      "source": [
        "if __name__ == '__main__':\n",
        "    import pattern\n",
        "\n",
        "    pattern.vp_start_gui()"
      ],
      "execution_count": null,
      "outputs": []
    }
  ]
}