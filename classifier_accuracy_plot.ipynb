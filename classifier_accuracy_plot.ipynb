{
  "nbformat": 4,
  "nbformat_minor": 0,
  "metadata": {
    "colab": {
      "name": "classifier_accuracy_plot.ipynb",
      "provenance": [],
      "collapsed_sections": []
    },
    "kernelspec": {
      "name": "python3",
      "display_name": "Python 3"
    }
  },
  "cells": [
    {
      "cell_type": "markdown",
      "metadata": {
        "id": "oi9lgsNqrT86"
      },
      "source": [
        "# **Classifier Accuracy Comparison plot**\n",
        "\n",
        "### Train various classifier and get accuracy\n",
        "### Save trained models which can be used directly without retraining\n",
        "### Plot classifier accuracy comparison plot"
      ]
    },
    {
      "cell_type": "markdown",
      "metadata": {
        "id": "6oz9doXgBZWz"
      },
      "source": [
        "***Created by Rahul Maheshwari***"
      ]
    },
    {
      "cell_type": "code",
      "metadata": {
        "id": "FmNmhGl-qzWV"
      },
      "source": [
        "# all necessary imports\n",
        "import re\n",
        "import matplotlib.pyplot as plt\n",
        "import pandas as pd\n",
        "from joblib import dump\n",
        "from nltk import word_tokenize\n",
        "from nltk.stem import WordNetLemmatizer\n",
        "from sklearn import preprocessing\n",
        "from sklearn.ensemble import RandomForestClassifier\n",
        "from sklearn.feature_extraction.text import TfidfVectorizer\n",
        "from sklearn.metrics import accuracy_score\n",
        "from sklearn.model_selection import train_test_split\n",
        "from sklearn.neighbors import KNeighborsClassifier\n",
        "from sklearn.svm import SVC\n",
        "from sklearn.tree import DecisionTreeClassifier"
      ],
      "execution_count": null,
      "outputs": []
    },
    {
      "cell_type": "markdown",
      "metadata": {
        "id": "JH0zfE-sryiY"
      },
      "source": [
        "**Dataset loaded as dataframe and pre-processing is applied**"
      ]
    },
    {
      "cell_type": "code",
      "metadata": {
        "id": "7bEhJ5g7rATh"
      },
      "source": [
        "lm = WordNetLemmatizer()\n",
        "df = pd.read_csv(\"recipes.csv\")\n",
        "pd.set_option('display.max_columns', None)\n",
        "df = df.drop(['Recipe ID', 'Title', 'URL', 'Rating', 'Serves', 'Ingredients', 'Cooking instructions', 'Rating Score'],\n",
        "             axis=1)"
      ],
      "execution_count": null,
      "outputs": []
    },
    {
      "cell_type": "code",
      "metadata": {
        "id": "BuuSqGrkrCk6"
      },
      "source": [
        "new = []\n",
        "for ing in df['Lookup Ingredients']:\n",
        "    ingredient = ing[1:-1]\n",
        "    ingredients = re.sub(r'[^\\w\\s]', '', ingredient).split(' ')\n",
        "    ingredient = ' '.join(ingredients)\n",
        "    new.append(ingredient)\n",
        "df['new_ingredients'] = new\n",
        "l = []\n",
        "for s in df['new_ingredients']:\n",
        "    words = word_tokenize(s)\n",
        "    word_ps = []\n",
        "    for w in words:\n",
        "        word_ps.append(lm.lemmatize(w))\n",
        "    s = ' '.join(word_ps)\n",
        "    l.append(s)\n",
        "df['modified_ingredients'] = l\n",
        "vectorizer = TfidfVectorizer()\n",
        "X = vectorizer.fit_transform(df['modified_ingredients'])\n",
        "le = preprocessing.LabelEncoder()\n",
        "le.fit(df['Meal'])\n",
        "df['Meal'] = le.transform(df['Meal'])\n",
        "Y = df['Meal']"
      ],
      "execution_count": null,
      "outputs": []
    },
    {
      "cell_type": "markdown",
      "metadata": {
        "id": "03aN-14Ir5fI"
      },
      "source": [
        "**Vectorized features and label encoded labels are saved**"
      ]
    },
    {
      "cell_type": "code",
      "metadata": {
        "id": "aIs9WHFrrGPp"
      },
      "source": [
        "np.save(\"X_array\", X)\n",
        "pickle_file = open('Y_array', 'wb')\n",
        "pickle.dump(Y, pickle_file)\n",
        "pickle_file.close()"
      ],
      "execution_count": null,
      "outputs": []
    },
    {
      "cell_type": "markdown",
      "metadata": {
        "id": "tGu9uBNDsE-Y"
      },
      "source": [
        "**Train test split of dataset**"
      ]
    },
    {
      "cell_type": "code",
      "metadata": {
        "id": "WXTQzF2QrHzA"
      },
      "source": [
        "meal_map = {0: 'Breakfast', 1: 'Lunch', 2: 'Dinner'}\n",
        "\n",
        "classifier_accuracy = {}\n",
        "\n",
        "X_train, X_test, y_train, y_test = train_test_split(X, Y, test_size=0.2, random_state=42)"
      ],
      "execution_count": null,
      "outputs": []
    },
    {
      "cell_type": "markdown",
      "metadata": {
        "id": "lp1mhqngsHmn"
      },
      "source": [
        "**Training SVM model with hyperparameter tuning** "
      ]
    },
    {
      "cell_type": "code",
      "metadata": {
        "id": "VIkAE1XMrLkB"
      },
      "source": [
        "svm = SVC(C=20, kernel='rbf', gamma=1)\n",
        "svm.fit(X, Y)\n",
        "dump(svm, 'svm_model.joblib')\n",
        "y_pred = svm.predict(X_test)\n",
        "svm_accuracy = accuracy_score(y_test, y_pred) * 100\n",
        "classifier_accuracy[\"SVM\"] = round(svm_accuracy, 2)\n",
        "print(\"SVC Accuracy:\", svm_accuracy)"
      ],
      "execution_count": null,
      "outputs": []
    },
    {
      "cell_type": "markdown",
      "metadata": {
        "id": "tigz2hPzsVgp"
      },
      "source": [
        "**Training Random Forest model with hyperparameter tuning**"
      ]
    },
    {
      "cell_type": "code",
      "metadata": {
        "id": "urpB3dQ6rNPJ"
      },
      "source": [
        "rf = RandomForestClassifier(bootstrap=True, max_depth=None, max_features=30, n_estimators=100, random_state=42)\n",
        "rf.fit(X, Y)\n",
        "dump(rf, 'rf_model.joblib')\n",
        "y_pred = rf.predict(X_test)\n",
        "rf_accuracy = accuracy_score(y_test, y_pred) * 100\n",
        "classifier_accuracy[\"Random Forest\"] = round(rf_accuracy, 2)\n",
        "print(\"Random Forest Classifier Accuracy:\", rf_accuracy)"
      ],
      "execution_count": null,
      "outputs": []
    },
    {
      "cell_type": "markdown",
      "metadata": {
        "id": "mkh3tHAtsYlY"
      },
      "source": [
        "**Training Decision Tree model with hyperparameter tuning** "
      ]
    },
    {
      "cell_type": "code",
      "metadata": {
        "id": "wHPI040mrO35"
      },
      "source": [
        "dt_classifier = DecisionTreeClassifier(max_depth=155, max_features=40, random_state=42)\n",
        "dt_classifier.fit(X, Y)\n",
        "dump(dt_classifier, 'dt_model.joblib')\n",
        "y_pred = dt_classifier.predict(X_test)\n",
        "dt_accuracy = accuracy_score(y_test, y_pred) * 100\n",
        "classifier_accuracy[\"Decision Tree\"] = round(dt_accuracy, 2)\n",
        "print(\"Decision Tree Classifier Accuracy:\", dt_accuracy)"
      ],
      "execution_count": null,
      "outputs": []
    },
    {
      "cell_type": "markdown",
      "metadata": {
        "id": "1rkb-afssaux"
      },
      "source": [
        "**Training KNN model with hyperparameter tuning** "
      ]
    },
    {
      "cell_type": "code",
      "metadata": {
        "id": "H3X1y9i_rQeY"
      },
      "source": [
        "knn_classifier = KNeighborsClassifier(n_neighbors=5)\n",
        "knn_classifier.fit(X, Y)\n",
        "dump(knn_classifier, 'knn_model.joblib')\n",
        "y_pred = knn_classifier.predict(X_test)\n",
        "knn_accuracy = accuracy_score(y_test, y_pred) * 100\n",
        "classifier_accuracy[\"KNN\"] = round(knn_accuracy, 2)\n",
        "print(\"KNN Classifier Accuracy:\", knn_accuracy)"
      ],
      "execution_count": null,
      "outputs": []
    },
    {
      "cell_type": "markdown",
      "metadata": {
        "id": "6XhUXODBsckp"
      },
      "source": [
        "**Plot bar graph of accuracy vs classifier**"
      ]
    },
    {
      "cell_type": "code",
      "metadata": {
        "id": "SmNda4ZErR6S"
      },
      "source": [
        "fig = plt.figure(figsize=(7, 7))\n",
        "ax = fig.add_subplot()\n",
        "plt.title(\"Classifier Vs Accuracy\", size=15)\n",
        "plt.xlabel(\"Classifier\", size=15)\n",
        "plt.ylabel(\"Accuracy (%)\", size=15)\n",
        "plt.bar(classifier_accuracy.keys(), classifier_accuracy.values())\n",
        "for i, j in enumerate(classifier_accuracy.values()):\n",
        "    ax.text(i - 0.15, j + 0.5, str(str(j) + \"%\"), color='blue', size=15)\n",
        "plt.show()"
      ],
      "execution_count": null,
      "outputs": []
    }
  ]
}