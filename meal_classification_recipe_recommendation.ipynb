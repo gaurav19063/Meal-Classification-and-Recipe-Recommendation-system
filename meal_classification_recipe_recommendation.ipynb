{
  "nbformat": 4,
  "nbformat_minor": 0,
  "metadata": {
    "colab": {
      "name": "meal_classification_recipe_recommendation.ipynb",
      "provenance": [],
      "collapsed_sections": []
    },
    "kernelspec": {
      "name": "python3",
      "display_name": "Python 3"
    }
  },
  "cells": [
    {
      "cell_type": "markdown",
      "metadata": {
        "id": "oYAEsf-nt0_5"
      },
      "source": [
        "# **Meal Classification & Recipe Recommendation System**\n",
        "\n",
        "### Main screen GUI code\n",
        "### All functionalities of the system can be accessed with the help of the specified buttons in the GUI which are interlinked to open the corresponding GUI Screen.\n",
        "\n",
        "## **Dataset sources**\n",
        "[BBC Good Food](https://www.bbcgoodfood.com/)\n",
        "\n",
        "[Spark Recipes](https://recipes.sparkpeople.com/)"
      ]
    },
    {
      "cell_type": "markdown",
      "metadata": {
        "id": "6oz9doXgBZWz"
      },
      "source": [
        "***Created by Rahul Maheshwari***"
      ]
    },
    {
      "cell_type": "code",
      "metadata": {
        "id": "tae8LUAAsx3h"
      },
      "source": [
        "#! /usr/bin/env python\n",
        "#  -*- coding: utf-8 -*-\n",
        "# all imports\n",
        "import sys\n",
        "import classification as cl\n",
        "import classify as cy\n",
        "import plot as pl\n",
        "import recommendation as rm"
      ],
      "execution_count": null,
      "outputs": []
    },
    {
      "cell_type": "markdown",
      "metadata": {
        "id": "2TSUJxcBuV24"
      },
      "source": [
        "**Responsible for GUI creation and showing corresponding UI screens for appropriate functionalities**"
      ]
    },
    {
      "cell_type": "code",
      "metadata": {
        "id": "QlNtq1Shtrsa"
      },
      "source": [
        "try:\n",
        "    import Tkinter as tk\n",
        "except ImportError:\n",
        "    import tkinter as tk\n",
        "\n",
        "try:\n",
        "    import ttk\n",
        "\n",
        "    py3 = False\n",
        "except ImportError:\n",
        "    import tkinter.ttk as ttk\n",
        "\n",
        "    py3 = True\n",
        "\n",
        "import gui_support\n",
        "\n",
        "\n",
        "def vp_start_gui():\n",
        "    \"\"\"Starting point when module is the main routine.\"\"\"\n",
        "    global val, w, root\n",
        "    root = tk.Tk()\n",
        "    top = Toplevel1(root)\n",
        "    gui_support.init(root, top)\n",
        "    root.mainloop()\n",
        "\n",
        "\n",
        "w = None\n",
        "\n",
        "\n",
        "def create_Toplevel1(rt, *args, **kwargs):\n",
        "    \"\"\"Starting point when module is imported by another module.\n",
        "       Correct form of call: 'create_Toplevel1(root, *args, **kwargs)' .\"\"\"\n",
        "    global w, w_win, root\n",
        "    # rt = root\n",
        "    root = rt\n",
        "    w = tk.Toplevel(root)\n",
        "    top = Toplevel1(w)\n",
        "    gui_support.init(w, top, *args, **kwargs)\n",
        "    return (w, top)\n",
        "\n",
        "\n",
        "def destroy_Toplevel1():\n",
        "    global w\n",
        "    w.destroy()\n",
        "    w = None\n",
        "\n",
        "\n",
        "def classification_screen():\n",
        "    cl.vp_start_gui()\n",
        "\n",
        "\n",
        "def classify_screen():\n",
        "    cy.vp_start_gui()\n",
        "\n",
        "\n",
        "def plot_screen():\n",
        "    pl.vp_start_gui()\n",
        "\n",
        "def recommend_screen():\n",
        "    rm.vp_start_gui()"
      ],
      "execution_count": null,
      "outputs": []
    },
    {
      "cell_type": "markdown",
      "metadata": {
        "id": "rpKnGdt7ufen"
      },
      "source": [
        "## **Class containing initialization of GUI components and open corresponding UI screens**"
      ]
    },
    {
      "cell_type": "code",
      "metadata": {
        "id": "diPcgx3VtwbJ"
      },
      "source": [
        "class Toplevel1:\n",
        "    def __init__(self, top=None):\n",
        "        \"\"\"This class configures and populates the toplevel window.\n",
        "           top is the toplevel containing window.\"\"\"\n",
        "        _bgcolor = '#d9d9d9'  # X11 color: 'gray85'\n",
        "        _fgcolor = '#000000'  # X11 color: 'black'\n",
        "        _compcolor = '#d9d9d9'  # X11 color: 'gray85'\n",
        "        _ana1color = '#d9d9d9'  # X11 color: 'gray85'\n",
        "        _ana2color = '#ececec'  # Closest X11 color: 'gray92'\n",
        "\n",
        "        top.geometry(\"1920x1001+-117+38\")\n",
        "        top.attributes(\"-fullscreen\", True)\n",
        "        top.minsize(148, 1)\n",
        "        top.maxsize(1924, 1055)\n",
        "        top.resizable(1, 1)\n",
        "        top.title(\"Recipe Classification and Recommendation System\")\n",
        "        top.configure(background=\"#23c05f\")\n",
        "        top.configure(highlightbackground=\"#d9d9d9\")\n",
        "        top.configure(highlightcolor=\"black\")\n",
        "\n",
        "        self.Button1 = tk.Button(top)\n",
        "        self.Button1.place(relx=0.922, rely=0.04, height=43, width=66)\n",
        "        self.Button1.configure(activebackground=\"#ececec\")\n",
        "        self.Button1.configure(activeforeground=\"#000000\")\n",
        "        self.Button1.configure(background=\"#e1031e\")\n",
        "        self.Button1.configure(disabledforeground=\"#a3a3a3\")\n",
        "        self.Button1.configure(font=\"-family {Century Gothic} -size 14 -weight bold\")\n",
        "        self.Button1.configure(foreground=\"#ffffff\")\n",
        "        self.Button1.configure(highlightbackground=\"#d9d9d9\")\n",
        "        self.Button1.configure(highlightcolor=\"black\")\n",
        "        self.Button1.configure(pady=\"0\")\n",
        "        self.Button1.configure(text='''X''')\n",
        "        self.Button1.configure(command=root.destroy)\n",
        "\n",
        "        self.Label1 = tk.Label(top)\n",
        "        self.Label1.place(relx=0.190, rely=0.12, height=96, width=1030)\n",
        "        self.Label1.configure(activebackground=\"#f9f9f9\")\n",
        "        self.Label1.configure(activeforeground=\"black\")\n",
        "        self.Label1.configure(background=\"#23c05f\")\n",
        "        self.Label1.configure(disabledforeground=\"#a3a3a3\")\n",
        "        self.Label1.configure(font=\"-family {Century Gothic} -size 24 -weight bold\")\n",
        "        self.Label1.configure(foreground=\"#ffffff\")\n",
        "        self.Label1.configure(highlightbackground=\"#d9d9d9\")\n",
        "        self.Label1.configure(highlightcolor=\"black\")\n",
        "        self.Label1.configure(text='''Meal Classification and Recipe Recommendation''')\n",
        "\n",
        "        self.Button2 = tk.Button(top)\n",
        "        self.Button2.place(relx=0.432, rely=0.35, height=63, width=264)\n",
        "        self.Button2.configure(activebackground=\"#ececec\")\n",
        "        self.Button2.configure(activeforeground=\"#000000\")\n",
        "        self.Button2.configure(background=\"#008000\")\n",
        "        self.Button2.configure(disabledforeground=\"#a3a3a3\")\n",
        "        self.Button2.configure(font=\"-family {Segoe UI} -size 20\")\n",
        "        self.Button2.configure(foreground=\"#ffffff\")\n",
        "        self.Button2.configure(highlightbackground=\"#d9d9d9\")\n",
        "        self.Button2.configure(highlightcolor=\"black\")\n",
        "        self.Button2.configure(pady=\"0\")\n",
        "        self.Button2.configure(text='''Classification''')\n",
        "        self.Button2.configure(command=classification_screen)\n",
        "\n",
        "        self.Button2_1 = tk.Button(top)\n",
        "        self.Button2_1.place(relx=0.415, rely=0.589, height=63, width=324)\n",
        "        self.Button2_1.configure(activebackground=\"#ececec\")\n",
        "        self.Button2_1.configure(activeforeground=\"#000000\")\n",
        "        self.Button2_1.configure(background=\"#008000\")\n",
        "        self.Button2_1.configure(disabledforeground=\"#a3a3a3\")\n",
        "        self.Button2_1.configure(font=\"-family {Segoe UI} -size 20\")\n",
        "        self.Button2_1.configure(foreground=\"#ffffff\")\n",
        "        self.Button2_1.configure(highlightbackground=\"#d9d9d9\")\n",
        "        self.Button2_1.configure(highlightcolor=\"black\")\n",
        "        self.Button2_1.configure(pady=\"0\")\n",
        "        self.Button2_1.configure(text='''Recommendation''')\n",
        "        self.Button2_1.configure(command=recommend_screen)\n",
        "\n",
        "        self.Button2_1 = tk.Button(top)\n",
        "        self.Button2_1.place(relx=0.408, rely=0.47, height=63, width=344)\n",
        "        self.Button2_1.configure(activebackground=\"#ececec\")\n",
        "        self.Button2_1.configure(activeforeground=\"#000000\")\n",
        "        self.Button2_1.configure(background=\"#008000\")\n",
        "        self.Button2_1.configure(disabledforeground=\"#a3a3a3\")\n",
        "        self.Button2_1.configure(font=\"-family {Segoe UI} -size 20\")\n",
        "        self.Button2_1.configure(foreground=\"#ffffff\")\n",
        "        self.Button2_1.configure(highlightbackground=\"#d9d9d9\")\n",
        "        self.Button2_1.configure(highlightcolor=\"black\")\n",
        "        self.Button2_1.configure(pady=\"0\")\n",
        "        self.Button2_1.configure(text='''Classify New Recipe''')\n",
        "        self.Button2_1.configure(command=classify_screen)\n",
        "\n",
        "        self.Button2_2 = tk.Button(top)\n",
        "        self.Button2_2.place(relx=0.432, rely=0.709, height=63, width=264)\n",
        "        self.Button2_2.configure(activebackground=\"#ececec\")\n",
        "        self.Button2_2.configure(activeforeground=\"#000000\")\n",
        "        self.Button2_2.configure(background=\"#008000\")\n",
        "        self.Button2_2.configure(disabledforeground=\"#a3a3a3\")\n",
        "        self.Button2_2.configure(font=\"-family {Segoe UI} -size 20\")\n",
        "        self.Button2_2.configure(foreground=\"#ffffff\")\n",
        "        self.Button2_2.configure(highlightbackground=\"#d9d9d9\")\n",
        "        self.Button2_2.configure(highlightcolor=\"black\")\n",
        "        self.Button2_2.configure(pady=\"0\")\n",
        "        self.Button2_2.configure(text='''Plots and Stats''')\n",
        "        self.Button2_2.configure(command=plot_screen)\n",
        "\n"
      ],
      "execution_count": null,
      "outputs": []
    },
    {
      "cell_type": "markdown",
      "metadata": {
        "id": "3SucP9Miuqhn"
      },
      "source": [
        "**Main method to start GUI**"
      ]
    },
    {
      "cell_type": "code",
      "metadata": {
        "id": "z74YcKbJtym4"
      },
      "source": [
        "if __name__ == '__main__':\n",
        "    vp_start_gui()"
      ],
      "execution_count": null,
      "outputs": []
    }
  ]
}