{
  "nbformat": 4,
  "nbformat_minor": 0,
  "metadata": {
    "colab": {
      "name": "meal_classification_recipe_recommendation_support.ipynb",
      "provenance": [],
      "collapsed_sections": []
    },
    "kernelspec": {
      "name": "python3",
      "display_name": "Python 3"
    }
  },
  "cells": [
    {
      "cell_type": "markdown",
      "metadata": {
        "id": "IfBKsiitu2iQ"
      },
      "source": [
        "# **Support module for main screen GUI**\n",
        "\n",
        "### Required for creation of main screen GUI"
      ]
    },
    {
      "cell_type": "markdown",
      "metadata": {
        "id": "6oz9doXgBZWz"
      },
      "source": [
        "***Created by Rahul Maheshwari***"
      ]
    },
    {
      "cell_type": "code",
      "metadata": {
        "id": "jFhu49EmuwXe"
      },
      "source": [
        "#! /usr/bin/env python\n",
        "#  -*- coding: utf-8 -*-\n",
        "\n",
        "\n",
        "import sys\n",
        "\n",
        "try:\n",
        "    import Tkinter as tk\n",
        "except ImportError:\n",
        "    import tkinter as tk\n",
        "\n",
        "try:\n",
        "    import ttk\n",
        "\n",
        "    py3 = False\n",
        "except ImportError:\n",
        "    import tkinter.ttk as ttk\n",
        "\n",
        "    py3 = True\n",
        "\n",
        "\n",
        "def init(top, gui, *args, **kwargs):\n",
        "    global w, top_level, root\n",
        "    w = gui\n",
        "    top_level = top\n",
        "    root = top\n",
        "\n",
        "\n",
        "def destroy_window():\n",
        "    # Function which closes the window.\n",
        "    global top_level\n",
        "    top_level.destroy()\n",
        "    top_level = None\n"
      ],
      "execution_count": null,
      "outputs": []
    },
    {
      "cell_type": "markdown",
      "metadata": {
        "id": "7ai2wOZAvH8A"
      },
      "source": [
        "**Main method to create GUI**"
      ]
    },
    {
      "cell_type": "code",
      "metadata": {
        "id": "MViH8TNDu0gi"
      },
      "source": [
        "if __name__ == '__main__':\n",
        "    import gui\n",
        "\n",
        "    gui.vp_start_gui()"
      ],
      "execution_count": null,
      "outputs": []
    }
  ]
}