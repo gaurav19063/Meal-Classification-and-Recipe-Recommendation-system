{
  "nbformat": 4,
  "nbformat_minor": 0,
  "metadata": {
    "colab": {
      "name": "recommendation_auxiliary.ipynb",
      "provenance": [],
      "collapsed_sections": []
    },
    "kernelspec": {
      "name": "python3",
      "display_name": "Python 3"
    }
  },
  "cells": [
    {
      "cell_type": "markdown",
      "metadata": {
        "id": "g-mt8zr0_tTl"
      },
      "source": [
        "# **Auxiliary code for recommendation system**\n",
        "\n",
        "### Pre-process features and calculation of recommendation score"
      ]
    },
    {
      "cell_type": "markdown",
      "metadata": {
        "id": "6oz9doXgBZWz"
      },
      "source": [
        "***Created by Gaurav Lodhi***"
      ]
    },
    {
      "cell_type": "code",
      "metadata": {
        "id": "RjIED9Iq_gCS"
      },
      "source": [
        "#################################\n",
        "\"\"\"Recipe Recommendataion System\"\"\"\n",
        "#################################\n",
        "\n",
        "import ast\n",
        "import numpy as np\n",
        "import pandas as pd\n",
        "from nltk.stem import WordNetLemmatizer"
      ],
      "execution_count": null,
      "outputs": []
    },
    {
      "cell_type": "markdown",
      "metadata": {
        "id": "C10D5cHE_7eL"
      },
      "source": [
        "**Pre-processing, Normalization and saving the modified dataframe to be used directly in the GUI.**"
      ]
    },
    {
      "cell_type": "code",
      "metadata": {
        "id": "dnSW4Z5H_oA0"
      },
      "source": [
        "lmtzr = WordNetLemmatizer()\n",
        "\n",
        "# Preprocessing\n",
        "data = pd.read_csv(\"recipes.csv\")\n",
        "data2 = data.copy()\n",
        "temp = []\n",
        "val = 1.0\n",
        "for y in data['Calories']:\n",
        "    try:\n",
        "        val = float(y)\n",
        "    except:\n",
        "        y = y.replace(\",\", \"\")\n",
        "        val = float(y)\n",
        "    temp.append(val)\n",
        "data['Calories'] = temp\n",
        "cols = ['Ingredients', 'Cooking instructions', 'Rating', 'Lookup Ingredients']\n",
        "for x in cols:\n",
        "    l = []\n",
        "    for y in data[x]:\n",
        "        try:\n",
        "            res = ast.literal_eval(y)\n",
        "            if x == 'Lookup Ingredients':\n",
        "                res = [lmtzr.lemmatize(word) for word in res]\n",
        "        except:\n",
        "            print(y)\n",
        "        l.append(res)\n",
        "    data[x] = l\n",
        "cols_to_norm = ['Calories', 'Fat', 'Cholesterol', 'Carbs', 'Fiber', 'Protein']\n",
        "data[cols_to_norm] = data[cols_to_norm].apply(lambda x: (x - x.min()) / (x.max() - x.min()))\n",
        "data.to_csv(\"recommendation_dataframe.csv\", index=False)"
      ],
      "execution_count": null,
      "outputs": []
    },
    {
      "cell_type": "markdown",
      "metadata": {
        "id": "TANZzJ_wAFcT"
      },
      "source": [
        "## **Method to calculate recommendation score for the specified meal type and list of ingredients**"
      ]
    },
    {
      "cell_type": "code",
      "metadata": {
        "id": "jm39atcdADrb"
      },
      "source": [
        "def recommend(data_type_recipes, ingredients, k):\n",
        "    com_val = {}\n",
        "    for i in range(len(data_type_recipes)):\n",
        "        neg_factors = np.mean([data_type_recipes['Calories'].iloc[i], data_type_recipes['Fat'].iloc[i],\n",
        "                               data_type_recipes['Cholesterol'].iloc[i]])\n",
        "        pos_factors = np.mean([data_type_recipes['Rating Score'].iloc[i], data_type_recipes['Carbs'].iloc[i],\n",
        "                               data_type_recipes['Fiber'].iloc[i], data_type_recipes['Protein'].iloc[i]])\n",
        "        com_val[data_type_recipes['Recipe ID'].iloc[i]] = len(\n",
        "            set(ingredients) & set(data_type_recipes['Lookup Ingredients'].iloc[i])) * (pos_factors - neg_factors)\n",
        "    return sorted(com_val, key=com_val.get, reverse=True)[:k]"
      ],
      "execution_count": null,
      "outputs": []
    },
    {
      "cell_type": "markdown",
      "metadata": {
        "id": "82bPkZYoAOf8"
      },
      "source": [
        "**Testing functionality before integrating it with the GUI screen**"
      ]
    },
    {
      "cell_type": "code",
      "metadata": {
        "id": "nQpNl_3hALE7"
      },
      "source": [
        "#######################################\n",
        "# input\n",
        "k = 10\n",
        "type_of_food = 'Dinner'\n",
        "ingredients = ['chicken', 'beef']\n",
        "\n",
        "# lemmatizer on input\n",
        "ingredients = [lmtzr.lemmatize(word) for word in ingredients]\n",
        "\n",
        "data_type_recipes = data[data['Meal'] == type_of_food]\n",
        "data_type_recipes = data_type_recipes.dropna()\n",
        "recommendations = recommend(data_type_recipes, ingredients, k)\n",
        "recommendation_urls = []\n",
        "recommend_recipes = []\n",
        "print(recommendations)\n",
        "for x in recommendations:\n",
        "    val = data_type_recipes.loc[data_type_recipes['Recipe ID'] == x, ['URL', 'Title']]\n",
        "    recommendation_urls.append(list(val['URL'])[0])\n",
        "    recommend_recipes.append(list(val['Title'])[0])\n",
        "\n",
        "print(\"Top K recommended Recipes:\\n\", recommend_recipes, '\\n')\n",
        "# print(\"Top K Recommended Recipes Urls:\\n\", recommendation_urls, '\\n')"
      ],
      "execution_count": null,
      "outputs": []
    }
  ]
}